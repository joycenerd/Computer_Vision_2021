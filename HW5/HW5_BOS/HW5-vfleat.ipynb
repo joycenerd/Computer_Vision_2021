{
 "cells": [
  {
   "cell_type": "code",
   "execution_count": 1,
   "metadata": {},
   "outputs": [],
   "source": [
    "import numpy as np\n",
    "import cv2\n",
    "import os\n",
    "import glob\n",
    "from  matplotlib import pyplot as plt\n",
    "%matplotlib inline\n",
    "import pdb\n",
    "from collections import Counter\n",
    "import cyvlfeat as vlfeat"
   ]
  },
  {
   "cell_type": "code",
   "execution_count": 2,
   "metadata": {},
   "outputs": [
    {
     "name": "stdout",
     "output_type": "stream",
     "text": [
      "['Forest', 'Kitchen', 'Street', 'LivingRoom', 'Bedroom', 'TallBuilding', 'Mountain', 'Industrial', 'Office', 'Highway', 'Coast', 'Store', 'OpenCountry', 'InsideCity', 'Suburb', '.DS_Store']\n"
     ]
    }
   ],
   "source": [
    "class_label =  os.listdir(f'hw5_data/train/')\n",
    "print(class_label)"
   ]
  },
  {
   "cell_type": "markdown",
   "metadata": {},
   "source": [
    "# Bag of Word"
   ]
  },
  {
   "cell_type": "markdown",
   "metadata": {},
   "source": [
    "## Read Images and Labels "
   ]
  },
  {
   "cell_type": "code",
   "execution_count": 3,
   "metadata": {},
   "outputs": [],
   "source": [
    "def readImages(path):\n",
    "    label = []\n",
    "    img = []\n",
    "    for i in range(len(class_label)):\n",
    "        dir_path = os.path.join(path,class_label[i])\n",
    "        files = glob.glob(dir_path+'/*.jpg')\n",
    "        for j in files:\n",
    "            label.append(i)\n",
    "            image = cv2.imread(j,cv2.IMREAD_GRAYSCALE)\n",
    "            img.append(image)\n",
    "    return label,img\n",
    "train_labs, train_imgs = readImages('hw5_data/train')\n",
    "test_labs, test_imgs = readImages('hw5_data/test/') "
   ]
  },
  {
   "cell_type": "markdown",
   "metadata": {},
   "source": [
    "## Find SIFT features"
   ]
  },
  {
   "cell_type": "code",
   "execution_count": 4,
   "metadata": {},
   "outputs": [],
   "source": [
    "#feat_type = cv2.SIFT_create()\n",
    "def detect_interest_p(img):\n",
    "    #feat_type = cv2.SIFT_create()\n",
    "    #gray = cv2.cvtColor(img, cv2.COLOR_BGR2GRAY)\n",
    "    _, desc = vlfeat.sift.dsift(img,step=10,fast=True)\n",
    "    #p, desc = feat_type.detectAndCompute(img, None)\n",
    "    return desc\n",
    "train_features = [detect_interest_p(x) for x in train_imgs]\n",
    "test_features = [detect_interest_p(x) for x in test_imgs]"
   ]
  },
  {
   "cell_type": "markdown",
   "metadata": {},
   "source": [
    "## K-means on Features"
   ]
  },
  {
   "cell_type": "markdown",
   "metadata": {},
   "source": [
    "- Deifinintion of K-means algorithm"
   ]
  },
  {
   "cell_type": "code",
   "execution_count": 5,
   "metadata": {},
   "outputs": [],
   "source": [
    "class k_means:\n",
    "    def __init__(self, k, data):\n",
    "        self.iter = 0\n",
    "        self.converge = False\n",
    "        self.k = k\n",
    "        self.N = data.shape[0]\n",
    "        self.d = np.expand_dims(data,axis=1)\n",
    "        self.data = data\n",
    "        self.centers = None\n",
    "        self.labels = None\n",
    "        \n",
    "    def initialize_centers(self,method='k-means++'):\n",
    "        centers = []\n",
    "        if method == 'k-means++':\n",
    "            #initialize centers with \"k-means++\" method \n",
    "            \n",
    "            #self.centers = np.empty(shape=(0,self.data.shape[1]))\n",
    "            c1 = self.data[ np.random.choice(self.N)]\n",
    "            centers.append(c1)\n",
    "            for cnt in range(self.k - 1):\n",
    "                print(f'initializing {cnt}th center')\n",
    "                c = np.array(centers)\n",
    "                p = np.empty(shape=(self.N,))\n",
    "                for i in range(self.N):\n",
    "                    p[i] = np.min(np.sum((self.data[i]-c) ** 2 , axis=1),axis=0)\n",
    "                p = p/ np.sum(p)\n",
    "                new_center = self.data[np.random.choice(self.N, p=p),:]\n",
    "                centers.append(new_center)\n",
    "        else: \n",
    "            # initialize randomly\n",
    "            for i in range(self.k):\n",
    "                print(f'initializing {i}th center')\n",
    "                c = self.data[np.random.choice(self.N),:]\n",
    "                centers.append(c)\n",
    "        self.centers = np.stack(centers,axis=0)    \n",
    "        self.find_labels()\n",
    "        \n",
    "    def find_labels(self):\n",
    "        self.labels = np.empty(shape=(self.N,))\n",
    "        #c = np.expand_dims(self.centers,axis=0)\n",
    "        for i in range(self.N):\n",
    "            self.labels[i] = np.argmin(np.sum((self.data[i,:]-self.centers) ** 2,axis=1),axis=0) \n",
    "        # The following line will use too much memory when N is large, be careful!!\n",
    "        #self.labels = np.argmin(np.sum((self.d - c) ** 2, axis=2),axis=1)\n",
    "        return \n",
    "    \n",
    "    def find_centers(self):\n",
    "        for i in range(self.k):\n",
    "            self.centers[i] = np.mean(self.data[self.labels==i],axis=0)\n",
    "            \n",
    "    def one_step(self):\n",
    "        l = self.labels.copy()\n",
    "        self.find_centers()\n",
    "        self.find_labels()\n",
    "        if np.alltrue(l == self.labels):\n",
    "            print('k-means converge!!')\n",
    "            return True\n",
    "        else :\n",
    "            self.iter += 1\n",
    "            return False\n",
    "        \n",
    "    def run_all(self,maxIter):\n",
    "        for i in range(maxIter):\n",
    "            print(f'starting iteration: {self.iter}')\n",
    "            if self.one_step(): \n",
    "                break\n",
    "                \n",
    "    def classify(self,data):\n",
    "        c = np.expand_dims(self.centers,axis=0)\n",
    "        d = np.expand_dims(data,axis=1)\n",
    "        labels = np.argmin(np.sum((d - c) ** 2, axis=2),axis=1)\n",
    "        return labels"
   ]
  },
  {
   "cell_type": "markdown",
   "metadata": {},
   "source": [
    "- test k-means\n"
   ]
  },
  {
   "cell_type": "code",
   "execution_count": 6,
   "metadata": {
    "scrolled": true,
    "tags": []
   },
   "outputs": [
    {
     "name": "stdout",
     "output_type": "stream",
     "text": [
      "initializing 0th center\n",
      "initializing 1th center\n",
      "starting iteration: 0\n",
      "starting iteration: 1\n",
      "starting iteration: 2\n",
      "starting iteration: 3\n",
      "starting iteration: 4\n",
      "k-means converge!!\n"
     ]
    },
    {
     "data": {
      "image/png": "[encoded data removed]",
      "text/plain": [
       "<Figure size 432x288 with 1 Axes>"
      ]
     },
     "metadata": {
      "needs_background": "light"
     },
     "output_type": "display_data"
    }
   ],
   "source": [
    "c = [[1,1,2],[5,4,2],[-1,7,2]]\n",
    "d = np.empty(shape=(0,2))\n",
    "for center in c:\n",
    "    xs = np.random.normal(center[0],center[2],(50,))\n",
    "    ys = np.random.normal(center[1],center[2],(50,))\n",
    "    d = np.concatenate([d,np.stack([xs,ys],axis=1)],axis=0)\n",
    "    \n",
    "km = k_means(3,d)\n",
    "km.initialize_centers(method='k-means++')\n",
    "km.run_all(20)\n",
    "plt.scatter(d[:,0],d[:,1],c=km.labels)\n",
    "plt.scatter(km.centers[:,0],km.centers[:,1],c='r',s=100)\n",
    "plt.show()"
   ]
  },
  {
   "cell_type": "markdown",
   "metadata": {},
   "source": [
    "- run k-means on all descriptors from training set"
   ]
  },
  {
   "cell_type": "code",
   "execution_count": 7,
   "metadata": {
    "scrolled": true
   },
   "outputs": [
    {
     "name": "stdout",
     "output_type": "stream",
     "text": [
      "(965994, 128)\n"
     ]
    }
   ],
   "source": [
    "fs = np.concatenate(train_features,axis=0)\n",
    "fs = fs.astype('float32')\n",
    "print(fs.shape)"
   ]
  },
  {
   "cell_type": "code",
   "execution_count": null,
   "metadata": {},
   "outputs": [],
   "source": [
    "k= 150\n",
    "km = k_means(k,fs)\n",
    "# My implementation runs very slow, use scipy.cluster is faster \n",
    "\n",
    "#km.initialize_centers(method='random')\n",
    "#km.run_all(1000)\n",
    "\n",
    "from scipy.cluster.vq import *\n",
    "codebook, distortion = kmeans2(fs,k, minit='++')\n",
    "km.centers = codebook"
   ]
  },
  {
   "cell_type": "markdown",
   "metadata": {},
   "source": [
    "- Save K-means center as intermediate result"
   ]
  },
  {
   "cell_type": "code",
   "execution_count": null,
   "metadata": {},
   "outputs": [],
   "source": [
    "with open(f'k_means_k={k}.npy', 'wb') as f:\n",
    "    np.save(f,km.centers)\n"
   ]
  },
  {
   "cell_type": "markdown",
   "metadata": {},
   "source": [
    "- Load K-means centers from file"
   ]
  },
  {
   "cell_type": "code",
   "execution_count": 28,
   "metadata": {},
   "outputs": [],
   "source": [
    "with open(f'k_means_k={k}.npy', 'rb') as f:\n",
    "    km.centers = np.load(f)"
   ]
  },
  {
   "cell_type": "markdown",
   "metadata": {},
   "source": [
    "- Convert training and testing images to new feature space"
   ]
  },
  {
   "cell_type": "code",
   "execution_count": null,
   "metadata": {},
   "outputs": [],
   "source": [
    "# this may take very long\n",
    "train_bags = []\n",
    "for f in train_features:\n",
    "    words = km.classify(f)\n",
    "    hist= [Counter(words)[i] for i in range(k)]\n",
    "    train_bags.append(hist)\n",
    "    \n",
    "    \n",
    "test_bags = []\n",
    "for f in test_features:\n",
    "    words = km.classify(f)\n",
    "    hist= [Counter(words)[i] for i in range(k)]\n",
    "    test_bags.append(hist)\n",
    "\n",
    "train_bags = np.array(train_bags,dtype='float')\n",
    "test_bags = np.array(test_bags,dtype='float')\n",
    "\n",
    "\n",
    "# The following alternative version will be extremely slow due to memory constraint\n",
    "\n",
    "#train_bag = np.array([\n",
    "#               [Counter(km.classify(x))[i]for i in range(k)]\n",
    "#               for x in train_features\n",
    "#            ],dtype='float')\n",
    "#\n",
    "#test_bag = np.array([\n",
    "#               [Counter(km.classify(x))[i] for i in range(k)]\n",
    "#               for x in test_features\n",
    "#           ],dtype='float')"
   ]
  },
  {
   "cell_type": "markdown",
   "metadata": {},
   "source": [
    "### Normalizing Bag-of-SIFT features\n",
    "this processs is only needed when using inner product as similarity in KNN"
   ]
  },
  {
   "cell_type": "raw",
   "metadata": {},
   "source": [
    "\n",
    "def normalize(v):\n",
    "    norm = np.linalg.norm(v)\n",
    "    if norm == 0: \n",
    "       return v\n",
    "    return v / norm\n",
    "\n",
    "for i in range(len(train_bags)):\n",
    "    train_bags[i] = normalize(train_bags[i])\n",
    "\n",
    "for i in range(len(test_bags)):\n",
    "    test_bags[i] = normalize(test_bags[i])"
   ]
  },
  {
   "cell_type": "markdown",
   "metadata": {},
   "source": [
    "### Plot Histogram"
   ]
  },
  {
   "cell_type": "code",
   "execution_count": 49,
   "metadata": {
    "scrolled": true
   },
   "outputs": [
    {
     "data": {
      "image/png": "[encoded data removed]",
      "text/plain": [
       "<Figure size 720x360 with 2 Axes>"
      ]
     },
     "metadata": {
      "needs_background": "light"
     },
     "output_type": "display_data"
    }
   ],
   "source": [
    "fig = plt.figure(figsize=(10,5))\n",
    "ax = fig.subplots(1,2)\n",
    "ax[0].bar(np.arange(k),height=train_bags[0,:])\n",
    "ax[1].bar(np.arange(k),height=test_bags[0,:])\n",
    "plt.show()"
   ]
  },
  {
   "cell_type": "markdown",
   "metadata": {},
   "source": [
    "### K-Nearest Neighbour"
   ]
  },
  {
   "cell_type": "code",
   "execution_count": null,
   "metadata": {},
   "outputs": [],
   "source": [
    "from scipy.spatial import distance\n",
    "class KNN:\n",
    "    def __init__(self, k):\n",
    "        self.k = k\n",
    "\n",
    "    def fit(self, X, y):\n",
    "        self.X_train = X\n",
    "        self.y_train = y\n",
    "\n",
    "    def distance(self, X1, X2):\n",
    "        distance = scipy.spatial.distance.euclidean(X1, X2)\n",
    "\n",
    "    def predict(self, X_test):\n",
    "        final_output = []\n",
    "        for i in range(len(X_test)):\n",
    "            d = []\n",
    "            votes = []\n",
    "            for j in range(len(self.X_train)):\n",
    "                dist = distance.euclidean(self.X_train[j],X_test[i])\n",
    "                #dist = -self.X_train[j] @ X_test[i]\n",
    "                d.append([dist, j])\n",
    "            d.sort()\n",
    "            d = d[0:self.k]\n",
    "            for d, j in d:\n",
    "                votes.append(self.y_train[j])\n",
    "            ans = Counter(votes).most_common(1)[0][0]\n",
    "            final_output.append(ans)\n",
    "\n",
    "        return final_output\n",
    "\n",
    "    def score(self, X_test, y_test):\n",
    "        predictions = self.predict(X_test)\n",
    "        cnt = 0\n",
    "        for i in range(len(y_test)):\n",
    "            if predictions[i] == y_test[i]:\n",
    "                cnt += 1\n",
    "        return cnt/ len(y_test)"
   ]
  },
  {
   "cell_type": "code",
   "execution_count": null,
   "metadata": {
    "scrolled": true
   },
   "outputs": [],
   "source": [
    "acc_list = []\n",
    "for i in range(60):\n",
    "    clf = KNN(i+1)\n",
    "    clf.fit(train_bags, train_labs)\n",
    "    acc = clf.score(test_bags,test_labs)\n",
    "    print(f'k = {i+1}, acc = {acc}')\n",
    "    acc_list.append(acc)"
   ]
  },
  {
   "cell_type": "code",
   "execution_count": null,
   "metadata": {
    "scrolled": true,
    "tags": []
   },
   "outputs": [],
   "source": [
    "plt.figure(figsize=(10,5))\n",
    "plt.plot(np.arange(1, 61, step=1),acc_list, marker='o')\n",
    "plt.xticks(np.arange(1, 61, step=2))\n",
    "plt.title('Bag_of_SIFT + KNN')\n",
    "plt.xlabel(\"number of voters(K)\")\n",
    "plt.ylabel(\"accuracy\")\n",
    "print(f'best Acc = {max(acc_list)}')\n",
    "print(f'best k =  {np.argmax(acc_list)}')"
   ]
  },
  {
   "cell_type": "markdown",
   "metadata": {},
   "source": [
    "## SVM"
   ]
  },
  {
   "cell_type": "code",
   "execution_count": 34,
   "metadata": {
    "jupyter": {
     "source_hidden": true
    },
    "tags": []
   },
   "outputs": [],
   "source": [
    "import libsvm.svmutil as svm"
   ]
  },
  {
   "cell_type": "code",
   "execution_count": 35,
   "metadata": {},
   "outputs": [
    {
     "name": "stdout",
     "output_type": "stream",
     "text": [
      "Accuracy = 66% (99/150) (classification)\n",
      "Accuracy = 68% (102/150) (classification)\n",
      "Accuracy = 18% (27/150) (classification)\n",
      "Accuracy = 6% (9/150) (classification)\n"
     ]
    }
   ],
   "source": [
    "# Linear kernel \n",
    "m_Linear = svm.svm_train(train_labs,train_bags,'-s 0 -t 0')\n",
    "_,acc_Linear ,_  = svm.svm_predict(test_labs,test_bags,m_Linear)\n",
    "\n",
    "#polynomial kernel, with coef0 = 1, degree = 3\n",
    "m_Poly = svm.svm_train(train_labs,train_bags,'-s 0 -t 1 -r 1')\n",
    "_,acc_Poly ,_  = svm.svm_predict(test_labs,test_bags,m_Poly)\n",
    "\n",
    "# RBF kernel with C = 1 , gamma = 1/k\n",
    "m_RBF = svm.svm_train(train_labs,train_bags,'-s 0 -t 2')\n",
    "_,acc_RBF ,_  = svm.svm_predict(test_labs,test_bags,m_RBF)\n",
    "\n",
    "#Sigmoid kernel coef0 = 0\n",
    "m_Sigmoid = svm.svm_train(train_labs,train_bags,'-s 0 -t 3')\n",
    "_,acc_Sigmoid ,_  = svm.svm_predict(test_labs,test_bags,m_Sigmoid)"
   ]
  },
  {
   "cell_type": "code",
   "execution_count": 36,
   "metadata": {
    "tags": []
   },
   "outputs": [
    {
     "name": "stdout",
     "output_type": "stream",
     "text": [
      "Cross Validation Accuracy = 42.0667%\n",
      "Cross Validation Accuracy = 46.4667%\n",
      "Cross Validation Accuracy = 48.8%\n",
      "Cross Validation Accuracy = 50.8%\n",
      "Cross Validation Accuracy = 45.2%\n",
      "Cross Validation Accuracy = 31.8%\n",
      "Cross Validation Accuracy = 23.9333%\n",
      "Cross Validation Accuracy = 13.6%\n",
      "Cross Validation Accuracy = 11.9333%\n",
      "Cross Validation Accuracy = 17.6667%\n",
      "Cross Validation Accuracy = 46.1333%\n",
      "Cross Validation Accuracy = 46.3333%\n",
      "Cross Validation Accuracy = 45.6667%\n",
      "Cross Validation Accuracy = 35.6667%\n",
      "Cross Validation Accuracy = 8.73333%\n",
      "Cross Validation Accuracy = 6.8%\n",
      "Cross Validation Accuracy = 6.93333%\n",
      "Cross Validation Accuracy = 6.8%\n",
      "Cross Validation Accuracy = 6.93333%\n",
      "Cross Validation Accuracy = 6.66667%\n",
      "Cross Validation Accuracy = 43.0667%\n",
      "Cross Validation Accuracy = 46.2%\n",
      "Cross Validation Accuracy = 49.4%\n",
      "Cross Validation Accuracy = 50.0667%\n",
      "Cross Validation Accuracy = 46%\n",
      "Cross Validation Accuracy = 31.2%\n",
      "Cross Validation Accuracy = 22.6667%\n",
      "Cross Validation Accuracy = 12%\n",
      "Cross Validation Accuracy = 12.8%\n",
      "Cross Validation Accuracy = 17.4667%\n",
      "Cross Validation Accuracy = 42.0667%\n",
      "Cross Validation Accuracy = 47.6%\n",
      "Cross Validation Accuracy = 45.2%\n",
      "Cross Validation Accuracy = 36.1333%\n",
      "Cross Validation Accuracy = 8.8%\n",
      "Cross Validation Accuracy = 7.06667%\n",
      "Cross Validation Accuracy = 7.06667%\n",
      "Cross Validation Accuracy = 6.8%\n",
      "Cross Validation Accuracy = 6.93333%\n",
      "Cross Validation Accuracy = 6.8%\n",
      "Cross Validation Accuracy = 42.4667%\n",
      "Cross Validation Accuracy = 46.2%\n",
      "Cross Validation Accuracy = 50.6%\n",
      "Cross Validation Accuracy = 51.8667%\n",
      "Cross Validation Accuracy = 45.4667%\n",
      "Cross Validation Accuracy = 33.0667%\n",
      "Cross Validation Accuracy = 21.4%\n",
      "Cross Validation Accuracy = 14.8667%\n",
      "Cross Validation Accuracy = 11.3333%\n",
      "Cross Validation Accuracy = 13.7333%\n",
      "Cross Validation Accuracy = 42.8%\n",
      "Cross Validation Accuracy = 47.8%\n",
      "Cross Validation Accuracy = 43.8%\n",
      "Cross Validation Accuracy = 35.5333%\n",
      "Cross Validation Accuracy = 8.4%\n",
      "Cross Validation Accuracy = 6.93333%\n",
      "Cross Validation Accuracy = 6.8%\n",
      "Cross Validation Accuracy = 6.8%\n",
      "Cross Validation Accuracy = 6.93333%\n",
      "Cross Validation Accuracy = 6.66667%\n",
      "Cross Validation Accuracy = 46.2667%\n",
      "Cross Validation Accuracy = 49.7333%\n",
      "Cross Validation Accuracy = 53.9333%\n",
      "Cross Validation Accuracy = 52.6667%\n",
      "Cross Validation Accuracy = 46.8%\n",
      "Cross Validation Accuracy = 33.4%\n",
      "Cross Validation Accuracy = 19.6667%\n",
      "Cross Validation Accuracy = 13.9333%\n",
      "Cross Validation Accuracy = 11.7333%\n",
      "Cross Validation Accuracy = 16.4667%\n",
      "Cross Validation Accuracy = 41.3333%\n",
      "Cross Validation Accuracy = 47.3333%\n",
      "Cross Validation Accuracy = 44.8%\n",
      "Cross Validation Accuracy = 35.6667%\n",
      "Cross Validation Accuracy = 8.53333%\n",
      "Cross Validation Accuracy = 6.8%\n",
      "Cross Validation Accuracy = 6.8%\n",
      "Cross Validation Accuracy = 6.8%\n",
      "Cross Validation Accuracy = 6.8%\n",
      "Cross Validation Accuracy = 6.93333%\n",
      "Cross Validation Accuracy = 51.0667%\n",
      "Cross Validation Accuracy = 55.4667%\n",
      "Cross Validation Accuracy = 57.4%\n",
      "Cross Validation Accuracy = 58.2%\n",
      "Cross Validation Accuracy = 52.4%\n",
      "Cross Validation Accuracy = 33.0667%\n",
      "Cross Validation Accuracy = 20.7333%\n",
      "Cross Validation Accuracy = 14.4%\n",
      "Cross Validation Accuracy = 12.0667%\n",
      "Cross Validation Accuracy = 10.9333%\n",
      "Cross Validation Accuracy = 45.2667%\n",
      "Cross Validation Accuracy = 44.8667%\n",
      "Cross Validation Accuracy = 45.4%\n",
      "Cross Validation Accuracy = 34.0667%\n",
      "Cross Validation Accuracy = 9.33333%\n",
      "Cross Validation Accuracy = 6.93333%\n",
      "Cross Validation Accuracy = 6.8%\n",
      "Cross Validation Accuracy = 6.93333%\n",
      "Cross Validation Accuracy = 6.66667%\n",
      "Cross Validation Accuracy = 6.93333%\n",
      "Cross Validation Accuracy = 57.4667%\n",
      "Cross Validation Accuracy = 59.9333%\n",
      "Cross Validation Accuracy = 60.2%\n",
      "Cross Validation Accuracy = 60.0667%\n",
      "Cross Validation Accuracy = 57.4%\n",
      "Cross Validation Accuracy = 50.8%\n",
      "Cross Validation Accuracy = 39.9333%\n",
      "Cross Validation Accuracy = 29.7333%\n",
      "Cross Validation Accuracy = 17.8667%\n",
      "Cross Validation Accuracy = 12.2667%\n",
      "Cross Validation Accuracy = 10.2%\n",
      "Cross Validation Accuracy = 30%\n",
      "Cross Validation Accuracy = 42.4%\n",
      "Cross Validation Accuracy = 36.2667%\n",
      "Cross Validation Accuracy = 8.2%\n",
      "Cross Validation Accuracy = 6.8%\n",
      "Cross Validation Accuracy = 6.93333%\n",
      "Cross Validation Accuracy = 6.8%\n",
      "Cross Validation Accuracy = 6.93333%\n",
      "Cross Validation Accuracy = 6.8%\n",
      "Cross Validation Accuracy = 59.7333%\n",
      "Cross Validation Accuracy = 62.1333%\n",
      "Cross Validation Accuracy = 60.5333%\n",
      "Cross Validation Accuracy = 62.0667%\n",
      "Cross Validation Accuracy = 57.9333%\n",
      "Cross Validation Accuracy = 51.5333%\n",
      "Cross Validation Accuracy = 44.0667%\n",
      "Cross Validation Accuracy = 28.8667%\n",
      "Cross Validation Accuracy = 18.8667%\n",
      "Cross Validation Accuracy = 16.4%\n",
      "Cross Validation Accuracy = 13.0667%\n",
      "Cross Validation Accuracy = 30.3333%\n",
      "Cross Validation Accuracy = 42.1333%\n",
      "Cross Validation Accuracy = 36%\n",
      "Cross Validation Accuracy = 8.26667%\n",
      "Cross Validation Accuracy = 7.06667%\n",
      "Cross Validation Accuracy = 6.93333%\n",
      "Cross Validation Accuracy = 6.66667%\n",
      "Cross Validation Accuracy = 6.93333%\n",
      "Cross Validation Accuracy = 6.8%\n",
      "Cross Validation Accuracy = 61.6667%\n",
      "Cross Validation Accuracy = 62.2%\n",
      "Cross Validation Accuracy = 63.7333%\n",
      "Cross Validation Accuracy = 61.0667%\n",
      "Cross Validation Accuracy = 58.6667%\n",
      "Cross Validation Accuracy = 51.1333%\n",
      "Cross Validation Accuracy = 42.6%\n",
      "Cross Validation Accuracy = 30.5333%\n",
      "Cross Validation Accuracy = 19.9333%\n",
      "Cross Validation Accuracy = 15.0667%\n",
      "Cross Validation Accuracy = 11.5333%\n",
      "Cross Validation Accuracy = 35.1333%\n",
      "Cross Validation Accuracy = 44.1333%\n",
      "Cross Validation Accuracy = 36.3333%\n",
      "Cross Validation Accuracy = 8.73333%\n",
      "Cross Validation Accuracy = 7.06667%\n",
      "Cross Validation Accuracy = 6.8%\n",
      "Cross Validation Accuracy = 6.8%\n",
      "Cross Validation Accuracy = 6.93333%\n",
      "Cross Validation Accuracy = 6.66667%\n",
      "Cross Validation Accuracy = 63.1333%\n",
      "Cross Validation Accuracy = 60.2667%\n",
      "Cross Validation Accuracy = 59.0667%\n",
      "Cross Validation Accuracy = 61.2%\n",
      "Cross Validation Accuracy = 59.0667%\n",
      "Cross Validation Accuracy = 50.5333%\n",
      "Cross Validation Accuracy = 43.5333%\n",
      "Cross Validation Accuracy = 31.4667%\n",
      "Cross Validation Accuracy = 18.6667%\n",
      "Cross Validation Accuracy = 12.8%\n",
      "Cross Validation Accuracy = 11.0667%\n",
      "Cross Validation Accuracy = 30.6667%\n",
      "Cross Validation Accuracy = 42.1333%\n",
      "Cross Validation Accuracy = 35.6667%\n",
      "Cross Validation Accuracy = 8.86667%\n",
      "Cross Validation Accuracy = 6.93333%\n",
      "Cross Validation Accuracy = 6.93333%\n",
      "Cross Validation Accuracy = 6.8%\n",
      "Cross Validation Accuracy = 6.66667%\n",
      "Cross Validation Accuracy = 6.8%\n",
      "Cross Validation Accuracy = 61.2667%\n",
      "Cross Validation Accuracy = 61.6%\n",
      "Cross Validation Accuracy = 60.6667%\n",
      "Cross Validation Accuracy = 60.0667%\n",
      "Cross Validation Accuracy = 58.8667%\n",
      "Cross Validation Accuracy = 51.9333%\n",
      "Cross Validation Accuracy = 42.8%\n",
      "Cross Validation Accuracy = 28.7333%\n",
      "Cross Validation Accuracy = 22.2667%\n",
      "Cross Validation Accuracy = 11.9333%\n",
      "Cross Validation Accuracy = 12.5333%\n",
      "Cross Validation Accuracy = 29.0667%\n",
      "Cross Validation Accuracy = 43.7333%\n",
      "Cross Validation Accuracy = 36.5333%\n",
      "Cross Validation Accuracy = 9%\n",
      "Cross Validation Accuracy = 6.8%\n",
      "Cross Validation Accuracy = 6.93333%\n",
      "Cross Validation Accuracy = 6.8%\n",
      "Cross Validation Accuracy = 6.93333%\n",
      "Cross Validation Accuracy = 6.93333%\n",
      "Cross Validation Accuracy = 62.9333%\n",
      "Cross Validation Accuracy = 60%\n",
      "Cross Validation Accuracy = 61.9333%\n",
      "Cross Validation Accuracy = 61%\n",
      "Cross Validation Accuracy = 59.8667%\n",
      "Cross Validation Accuracy = 51.5333%\n",
      "Cross Validation Accuracy = 40.7333%\n",
      "Cross Validation Accuracy = 27.2667%\n",
      "Cross Validation Accuracy = 18.3333%\n",
      "Cross Validation Accuracy = 14.6%\n",
      "Cross Validation Accuracy = 13.8667%\n",
      "Cross Validation Accuracy = 32.4667%\n",
      "Cross Validation Accuracy = 40.9333%\n",
      "Cross Validation Accuracy = 37.0667%\n",
      "Cross Validation Accuracy = 9.06667%\n",
      "Cross Validation Accuracy = 6.66667%\n",
      "Cross Validation Accuracy = 6.8%\n",
      "Cross Validation Accuracy = 6.66667%\n",
      "Cross Validation Accuracy = 6.8%\n",
      "Cross Validation Accuracy = 6.93333%\n",
      "Cross Validation Accuracy = 59.4667%\n",
      "Cross Validation Accuracy = 62.2%\n",
      "Cross Validation Accuracy = 62%\n",
      "Cross Validation Accuracy = 61.6%\n",
      "Cross Validation Accuracy = 60.5333%\n",
      "Cross Validation Accuracy = 51.4%\n",
      "Cross Validation Accuracy = 43.3333%\n",
      "Cross Validation Accuracy = 32.6%\n",
      "Cross Validation Accuracy = 18.5333%\n",
      "Cross Validation Accuracy = 13.7333%\n",
      "Cross Validation Accuracy = 12.6%\n",
      "Cross Validation Accuracy = 35.0667%\n",
      "Cross Validation Accuracy = 43.9333%\n",
      "Cross Validation Accuracy = 34.4%\n",
      "Cross Validation Accuracy = 8.8%\n",
      "Cross Validation Accuracy = 6.93333%\n",
      "Cross Validation Accuracy = 6.8%\n",
      "Cross Validation Accuracy = 6.8%\n",
      "Cross Validation Accuracy = 6.66667%\n",
      "Cross Validation Accuracy = 6.93333%\n",
      "Cross Validation Accuracy = 60.2%\n",
      "Cross Validation Accuracy = 60.1333%\n",
      "Cross Validation Accuracy = 61.4%\n",
      "Cross Validation Accuracy = 60.4667%\n",
      "Cross Validation Accuracy = 59.1333%\n",
      "Cross Validation Accuracy = 52.1333%\n",
      "Cross Validation Accuracy = 42.8667%\n",
      "Cross Validation Accuracy = 29.8667%\n",
      "Cross Validation Accuracy = 20.6667%\n",
      "Cross Validation Accuracy = 14.8%\n",
      "Cross Validation Accuracy = 12.2667%\n",
      "Cross Validation Accuracy = 34.2%\n",
      "Cross Validation Accuracy = 44.2667%\n",
      "Cross Validation Accuracy = 35.5333%\n",
      "Cross Validation Accuracy = 8.66667%\n",
      "Cross Validation Accuracy = 7.06667%\n",
      "Cross Validation Accuracy = 6.8%\n",
      "Cross Validation Accuracy = 6.93333%\n",
      "Cross Validation Accuracy = 6.66667%\n",
      "Cross Validation Accuracy = 6.93333%\n",
      "Cross Validation Accuracy = 62.4667%\n",
      "Cross Validation Accuracy = 60.9333%\n",
      "Cross Validation Accuracy = 61.7333%\n",
      "Cross Validation Accuracy = 61.6667%\n",
      "Cross Validation Accuracy = 58.7333%\n",
      "Cross Validation Accuracy = 52.2667%\n",
      "Cross Validation Accuracy = 43.8%\n",
      "Cross Validation Accuracy = 30.3333%\n",
      "Cross Validation Accuracy = 19.0667%\n",
      "Cross Validation Accuracy = 14.2667%\n",
      "Cross Validation Accuracy = 11.9333%\n",
      "Cross Validation Accuracy = 30.2%\n",
      "Cross Validation Accuracy = 42.6667%\n",
      "Cross Validation Accuracy = 36.1333%\n",
      "Cross Validation Accuracy = 8.66667%\n",
      "Cross Validation Accuracy = 6.93333%\n",
      "Cross Validation Accuracy = 7.06667%\n",
      "Cross Validation Accuracy = 6.8%\n",
      "Cross Validation Accuracy = 6.8%\n",
      "Cross Validation Accuracy = 6.93333%\n",
      "Cross Validation Accuracy = 62.4667%\n",
      "Cross Validation Accuracy = 62.8%\n",
      "Cross Validation Accuracy = 61.1333%\n",
      "Cross Validation Accuracy = 59.6%\n",
      "Cross Validation Accuracy = 58.7333%\n",
      "Cross Validation Accuracy = 52.0667%\n",
      "Cross Validation Accuracy = 43.6667%\n",
      "Cross Validation Accuracy = 29.7333%\n",
      "Cross Validation Accuracy = 20%\n",
      "Cross Validation Accuracy = 13.5333%\n",
      "Cross Validation Accuracy = 11.7333%\n",
      "Cross Validation Accuracy = 30.0667%\n",
      "Cross Validation Accuracy = 43.6%\n",
      "Cross Validation Accuracy = 35.8667%\n",
      "Cross Validation Accuracy = 9%\n",
      "Cross Validation Accuracy = 6.8%\n",
      "Cross Validation Accuracy = 7.06667%\n",
      "Cross Validation Accuracy = 6.8%\n",
      "Cross Validation Accuracy = 6.93333%\n",
      "Cross Validation Accuracy = 6.66667%\n",
      "Cross Validation Accuracy = 60.8667%\n",
      "Cross Validation Accuracy = 61.2667%\n",
      "Cross Validation Accuracy = 60.8%\n",
      "Cross Validation Accuracy = 59%\n",
      "Cross Validation Accuracy = 59.7333%\n",
      "Cross Validation Accuracy = 51.7333%\n",
      "Cross Validation Accuracy = 42.4667%\n",
      "Cross Validation Accuracy = 29.5333%\n",
      "Cross Validation Accuracy = 18.7333%\n",
      "Cross Validation Accuracy = 13.2667%\n",
      "Cross Validation Accuracy = 13.4%\n",
      "Cross Validation Accuracy = 30.6%\n",
      "Cross Validation Accuracy = 43.4667%\n",
      "Cross Validation Accuracy = 34.4%\n",
      "Cross Validation Accuracy = 9.33333%\n",
      "Cross Validation Accuracy = 6.8%\n",
      "Cross Validation Accuracy = 6.8%\n",
      "Cross Validation Accuracy = 6.8%\n",
      "Cross Validation Accuracy = 6.8%\n",
      "Cross Validation Accuracy = 6.8%\n",
      "Cross Validation Accuracy = 61.5333%\n",
      "Cross Validation Accuracy = 61.4%\n",
      "Cross Validation Accuracy = 60.9333%\n",
      "Cross Validation Accuracy = 61.9333%\n",
      "Cross Validation Accuracy = 58.7333%\n",
      "Cross Validation Accuracy = 51.8%\n",
      "Cross Validation Accuracy = 45.2667%\n",
      "Cross Validation Accuracy = 29.4667%\n",
      "Cross Validation Accuracy = 19%\n",
      "Cross Validation Accuracy = 16.0667%\n",
      "Cross Validation Accuracy = 11.6667%\n",
      "Cross Validation Accuracy = 34.8%\n",
      "Cross Validation Accuracy = 44.0667%\n",
      "Cross Validation Accuracy = 36.1333%\n",
      "Cross Validation Accuracy = 8.66667%\n",
      "Cross Validation Accuracy = 6.93333%\n",
      "Cross Validation Accuracy = 6.93333%\n",
      "Cross Validation Accuracy = 6.8%\n",
      "Cross Validation Accuracy = 6.8%\n",
      "Cross Validation Accuracy = 6.66667%\n",
      "Cross Validation Accuracy = 60.0667%\n",
      "Cross Validation Accuracy = 62.4667%\n",
      "Cross Validation Accuracy = 62.6667%\n",
      "Cross Validation Accuracy = 59.8%\n",
      "Cross Validation Accuracy = 59.2%\n",
      "Cross Validation Accuracy = 52.2%\n",
      "Cross Validation Accuracy = 42.7333%\n",
      "Cross Validation Accuracy = 32.1333%\n",
      "Cross Validation Accuracy = 16.5333%\n",
      "Cross Validation Accuracy = 14.4%\n",
      "Cross Validation Accuracy = 12.5333%\n",
      "Cross Validation Accuracy = 32.8%\n",
      "Cross Validation Accuracy = 43.8%\n",
      "Cross Validation Accuracy = 36.8%\n",
      "Cross Validation Accuracy = 8.93333%\n",
      "Cross Validation Accuracy = 6.8%\n",
      "Cross Validation Accuracy = 7.06667%\n",
      "Cross Validation Accuracy = 6.8%\n",
      "Cross Validation Accuracy = 6.8%\n",
      "Cross Validation Accuracy = 6.8%\n",
      "Cross Validation Accuracy = 62.2%\n",
      "Cross Validation Accuracy = 61.2667%\n",
      "Cross Validation Accuracy = 62.9333%\n",
      "Cross Validation Accuracy = 59.0667%\n",
      "Cross Validation Accuracy = 58.6667%\n",
      "Cross Validation Accuracy = 52.8667%\n",
      "Cross Validation Accuracy = 42.2%\n",
      "Cross Validation Accuracy = 28.9333%\n",
      "Cross Validation Accuracy = 18.0667%\n",
      "Cross Validation Accuracy = 13%\n",
      "Cross Validation Accuracy = 11.3333%\n",
      "Cross Validation Accuracy = 34.1333%\n",
      "Cross Validation Accuracy = 43%\n",
      "Cross Validation Accuracy = 35.9333%\n",
      "Cross Validation Accuracy = 9.06667%\n",
      "Cross Validation Accuracy = 6.8%\n",
      "Cross Validation Accuracy = 6.93333%\n",
      "Cross Validation Accuracy = 6.93333%\n",
      "Cross Validation Accuracy = 6.8%\n",
      "Cross Validation Accuracy = 6.8%\n",
      "Cross Validation Accuracy = 63%\n",
      "Cross Validation Accuracy = 62.6667%\n",
      "Cross Validation Accuracy = 61.2667%\n",
      "Cross Validation Accuracy = 59.8%\n",
      "Cross Validation Accuracy = 59.7333%\n",
      "Cross Validation Accuracy = 51.5333%\n",
      "Cross Validation Accuracy = 43.9333%\n",
      "Cross Validation Accuracy = 29.9333%\n",
      "Cross Validation Accuracy = 17.7333%\n",
      "Cross Validation Accuracy = 13.4667%\n",
      "Cross Validation Accuracy = 13.5333%\n",
      "Cross Validation Accuracy = 30.5333%\n",
      "Cross Validation Accuracy = 41.2%\n",
      "Cross Validation Accuracy = 35.9333%\n",
      "Cross Validation Accuracy = 8.93333%\n",
      "Cross Validation Accuracy = 6.8%\n",
      "Cross Validation Accuracy = 6.66667%\n",
      "Cross Validation Accuracy = 6.93333%\n",
      "Cross Validation Accuracy = 6.8%\n",
      "Cross Validation Accuracy = 6.66667%\n"
     ]
    }
   ],
   "source": [
    "step = 2\n",
    "C0_ln = -5\n",
    "gamma0_ln = -25\n",
    "acc = np.zeros(shape=(20,20))\n",
    "for i in range(20):\n",
    "    for j in range(20):\n",
    "        C = 2** (C0_ln + i)\n",
    "        gamma = 2 ** (gamma0_ln + j)\n",
    "        acc[i][j] = svm.svm_train(train_labs, train_bags,f'-s 0 -t 2 -g {gamma} -c {C} -v 2' )"
   ]
  },
  {
   "cell_type": "code",
   "execution_count": 37,
   "metadata": {},
   "outputs": [
    {
     "name": "stdout",
     "output_type": "stream",
     "text": [
      "(max_ln_C, max_ln_gamma) = (2,-13)\n",
      "max_acc = 63.733333333333334\n"
     ]
    },
    {
     "data": {
      "image/png": "[encoded data removed]",
      "text/plain": [
       "<Figure size 432x288 with 2 Axes>"
      ]
     },
     "metadata": {
      "needs_background": "light"
     },
     "output_type": "display_data"
    }
   ],
   "source": [
    "plt.imshow(acc,extent=[-25,-5,15,-5])\n",
    "plt.colorbar()\n",
    "plt.xlabel('ln( gamma )')\n",
    "plt.ylabel('ln( C )')\n",
    "plt.title('cross_validation Acc')\n",
    "max_i, max_j = np.argmax(acc) // 20, np.argmax(acc)%20\n",
    "max_lnc, max_ln_gamma = (max_i-5, max_j-25)\n",
    "print(f'(max_ln_C, max_ln_gamma) = ({max_lnc},{max_ln_gamma})')\n",
    "print(f'max_acc = {np.max(acc)}')"
   ]
  },
  {
   "cell_type": "code",
   "execution_count": 38,
   "metadata": {
    "scrolled": true
   },
   "outputs": [
    {
     "name": "stdout",
     "output_type": "stream",
     "text": [
      "Accuracy = 68% (102/150) (classification)\n"
     ]
    }
   ],
   "source": [
    "m_RBF = svm.svm_train(train_labs,train_bags,f'-s 0 -t 2 -g {2.0 ** max_ln_gamma} -c {2.0 ** max_lnc}')\n",
    "_,acc_RBF ,_  = svm.svm_predict(test_labs,test_bags,m_RBF)"
   ]
  },
  {
   "cell_type": "markdown",
   "metadata": {},
   "source": [
    "## Optimize Parameters for Linear SVM"
   ]
  },
  {
   "cell_type": "code",
   "execution_count": 39,
   "metadata": {},
   "outputs": [
    {
     "name": "stdout",
     "output_type": "stream",
     "text": [
      "Cross Validation Accuracy = 64.0667%\n",
      "Cross Validation Accuracy = 63.5333%\n",
      "Cross Validation Accuracy = 62.7333%\n",
      "Cross Validation Accuracy = 61.7333%\n",
      "Cross Validation Accuracy = 61.3333%\n",
      "Cross Validation Accuracy = 61.6667%\n",
      "Cross Validation Accuracy = 61.9333%\n",
      "Cross Validation Accuracy = 62.2%\n",
      "Cross Validation Accuracy = 60.9333%\n",
      "Cross Validation Accuracy = 61%\n",
      "Cross Validation Accuracy = 62.8667%\n",
      "Cross Validation Accuracy = 61.4667%\n",
      "Cross Validation Accuracy = 61.2667%\n",
      "Cross Validation Accuracy = 61.1333%\n",
      "Cross Validation Accuracy = 61.6%\n",
      "Cross Validation Accuracy = 60.5333%\n",
      "Cross Validation Accuracy = 63.1333%\n",
      "Cross Validation Accuracy = 61.4%\n",
      "Cross Validation Accuracy = 60.5333%\n",
      "Cross Validation Accuracy = 62.3333%\n"
     ]
    }
   ],
   "source": [
    "# Linear kernel \n",
    "#m_Linear = svm.svm_train(train_labs,train_bags,'-s 0 -t 0')\n",
    "#_,acc_Linear ,_  = svm.svm_predict(test_labs,test_bags,m_Linear)\n",
    "\n",
    "#polynomial kernel, with coef0 = 1, degree = 3\n",
    "#m_Poly = svm.svm_train(train_labs,train_bags,'-s 0 -t 1 -r 1')\n",
    "#_,acc_Poly ,_  = svm.svm_predict(test_labs,test_bags,m_Poly)\n",
    "\n",
    "Linear_Acc = []\n",
    "for i in range(20):\n",
    "    C = 2**(i-10)\n",
    "    acc = svm.svm_train(train_labs, train_bags,f'-s 0 -t 0 -c {C} -v 5' )\n",
    "    Linear_Acc.append(acc)"
   ]
  },
  {
   "cell_type": "code",
   "execution_count": 40,
   "metadata": {},
   "outputs": [
    {
     "name": "stdout",
     "output_type": "stream",
     "text": [
      "best Acc = 64.06666666666668\n",
      "best C =  0.0009765625\n"
     ]
    },
    {
     "data": {
      "image/png": "[encoded data removed]",
      "text/plain": [
       "<Figure size 720x360 with 1 Axes>"
      ]
     },
     "metadata": {
      "needs_background": "light"
     },
     "output_type": "display_data"
    }
   ],
   "source": [
    "plt.figure(figsize=(10,5))\n",
    "plt.plot(np.arange(-10, 10, step=1),Linear_Acc, marker='o')\n",
    "plt.xticks(np.arange(-10, 10, step=2))\n",
    "plt.title('Linear SVM Cross Validatoin Accuracy')\n",
    "plt.xlabel(\"ln of parameter C\")\n",
    "plt.ylabel(\"accuracy\")\n",
    "print(f'best Acc = {max(Linear_Acc)}')\n",
    "print(f'best C =  {2 **(np.argmax(Linear_Acc)-10.0)}')"
   ]
  },
  {
   "cell_type": "code",
   "execution_count": 45,
   "metadata": {},
   "outputs": [
    {
     "name": "stdout",
     "output_type": "stream",
     "text": [
      "Accuracy = 67.3333% (101/150) (classification)\n"
     ]
    }
   ],
   "source": [
    "lin_max_model = svm.svm_train(train_labs, train_bags,f'-s 0 -t 0 -c {2 **(np.argmax(Linear_Acc)-10.0)}' )\n",
    "_,acc_Linear ,_  = svm.svm_predict(test_labs,test_bags,lin_max_model)"
   ]
  },
  {
   "cell_type": "code",
   "execution_count": null,
   "metadata": {},
   "outputs": [],
   "source": []
  }
 ],
 "metadata": {
  "kernelspec": {
   "display_name": "Python 3",
   "language": "python",
   "name": "python3"
  },
  "language_info": {
   "codemirror_mode": {
    "name": "ipython",
    "version": 3
   },
   "file_extension": ".py",
   "mimetype": "text/x-python",
   "name": "python",
   "nbconvert_exporter": "python",
   "pygments_lexer": "ipython3",
   "version": "3.8.5"
  }
 },
 "nbformat": 4,
 "nbformat_minor": 4
}
