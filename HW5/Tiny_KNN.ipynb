{
 "cells": [
  {
   "cell_type": "markdown",
   "metadata": {},
   "source": [
    " ##  1. Tiny images representation + nearest neighbor classifier\n",
    "each image is resized to a small, fixed resolution (16x16). The tiny image is made to have zero mean and unit length\n",
    "discards all of the high frequency image content and is not especially invariant to spatial or brightness shifts. We are using tiny images simply as a baseline."
   ]
  },
  {
   "cell_type": "code",
   "execution_count": 1,
   "metadata": {},
   "outputs": [],
   "source": [
    "import numpy as np\n",
    "import cv2\n",
    "import os\n",
    "import glob\n",
    "from  matplotlib import pyplot as plt\n",
    "%matplotlib inline\n",
    "import pdb\n",
    "from collections import Counter"
   ]
  },
  {
   "cell_type": "code",
   "execution_count": 2,
   "metadata": {},
   "outputs": [
    {
     "name": "stdout",
     "output_type": "stream",
     "text": [
      "['Bedroom', 'Coast', 'Forest', 'Highway', 'Industrial', 'InsideCity', 'Kitchen', 'LivingRoom', 'Mountain', 'Office', 'OpenCountry', 'Store', 'Street', 'Suburb', 'TallBuilding']\n"
     ]
    }
   ],
   "source": [
    "class_label =  os.listdir(f'hw5_data/train/')\n",
    "print(class_label)"
   ]
  },
  {
   "cell_type": "code",
   "execution_count": 3,
   "metadata": {},
   "outputs": [],
   "source": [
    "def standardize(image):\n",
    "    mean = np.mean(image)\n",
    "    std = np.std(image)\n",
    "    image = (image-mean) / (std) # to avoid std = 0\n",
    "    return image\n",
    "def Tiny(path):\n",
    "    label = []\n",
    "    img = []\n",
    "    for i in class_label:\n",
    "        dir_path = os.path.join(path,i)\n",
    "        files = glob.glob(dir_path+'/*.jpg')\n",
    "        for j in files:\n",
    "            label.append(i)\n",
    "            image = cv2.imread(j,cv2.IMREAD_GRAYSCALE)\n",
    "            # resize to 16x16\n",
    "            image = cv2.resize(image, (16, 16))\n",
    "            img.append(standardize(image).reshape(-1,1))\n",
    "    return label,img"
   ]
  },
  {
   "cell_type": "code",
   "execution_count": 4,
   "metadata": {},
   "outputs": [],
   "source": [
    "def KNN(k):\n",
    "    correct = 0\n",
    "    # calculate the distance with training data\n",
    "    for i in range(len(test_img)):\n",
    "        dist = []\n",
    "        for j in range(len(train_img)):\n",
    "            dist.append(np.linalg.norm(np.array(train_img[j])-np.array(test_img[i])))\n",
    "        \n",
    "        # sort distance in accending order\n",
    "        # vote with k nearest neighbor\n",
    "        candidate = np.argsort(dist,axis=0)[:k]\n",
    "        if Counter(np.array(train_L)[candidate]).most_common(1)[0][0] == test_L[i]:\n",
    "           correct +=1 \n",
    "        \n",
    "    return correct/len(test_L)"
   ]
  },
  {
   "cell_type": "code",
   "execution_count": 5,
   "metadata": {},
   "outputs": [],
   "source": [
    "train_L, train_img = Tiny('hw5_data/train/')\n",
    "test_L, test_img = Tiny('hw5_data/test/')"
   ]
  },
  {
   "cell_type": "code",
   "execution_count": 6,
   "metadata": {},
   "outputs": [],
   "source": [
    "result = [0]\n",
    "K = 20 \n",
    "for i in range(1,K+1):\n",
    "    result.append(KNN(i))"
   ]
  },
  {
   "cell_type": "code",
   "execution_count": 7,
   "metadata": {},
   "outputs": [
    {
     "data": {
      "image/png": "[encoded data removed]",
      "text/plain": [
       "<Figure size 432x288 with 1 Axes>"
      ]
     },
     "metadata": {
      "needs_background": "light"
     },
     "output_type": "display_data"
    }
   ],
   "source": [
    "plt.plot(np.arange(0, K+1, step=1),result, marker='o')\n",
    "plt.xticks(np.arange(0, K+1, step=1))\n",
    "plt.title('Tiny+KNN')\n",
    "plt.xlabel(\"number of voters(K)\")\n",
    "plt.ylabel(\"accuracy\")\n",
    "plt.tight_layout()"
   ]
  },
  {
   "cell_type": "code",
   "execution_count": null,
   "metadata": {},
   "outputs": [],
   "source": []
  }
 ],
 "metadata": {
  "kernelspec": {
   "display_name": "env_keras",
   "language": "python",
   "name": "env_keras"
  },
  "language_info": {
   "codemirror_mode": {
    "name": "ipython",
    "version": 3
   },
   "file_extension": ".py",
   "mimetype": "text/x-python",
   "name": "python",
   "nbconvert_exporter": "python",
   "pygments_lexer": "ipython3",
   "version": "3.6.8"
  }
 },
 "nbformat": 4,
 "nbformat_minor": 4
}
